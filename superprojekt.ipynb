{
 "cells": [
  {
   "cell_type": "code",
   "execution_count": null,
   "id": "d3b3d4dc-37c3-4503-a478-844931fa6d04",
   "metadata": {},
   "outputs": [],
   "source": [
    "1. Przedstawienie zależności między danymi na wykresach\n",
    "2. Obróbka danych (uzupełnienie braków, konwersja danych, etc.)\n",
    "3. Stworzenie dwóch setów. Treningowy mający 20% danych i testowy mający 80% danych.\n",
    "4. Dobranie odpowiedniego modelu.\n",
    "5. Predykcja."
   ]
  },
  {
   "cell_type": "code",
   "execution_count": 2,
   "id": "db5e2f11-a2d9-4165-b0fc-c7d250652b41",
   "metadata": {},
   "outputs": [],
   "source": [
    "import numpy as np\n",
    "import pandas as pd"
   ]
  },
  {
   "cell_type": "code",
   "execution_count": null,
   "id": "eda3b5e1-2767-44c5-a56d-a88203962cf9",
   "metadata": {},
   "outputs": [],
   "source": []
  }
 ],
 "metadata": {
  "kernelspec": {
   "display_name": "Python 3 (ipykernel)",
   "language": "python",
   "name": "python3"
  },
  "language_info": {
   "codemirror_mode": {
    "name": "ipython",
    "version": 3
   },
   "file_extension": ".py",
   "mimetype": "text/x-python",
   "name": "python",
   "nbconvert_exporter": "python",
   "pygments_lexer": "ipython3",
   "version": "3.12.7"
  },
  "panel-cell-order": [
   "a1dcab38-7000-4a37-b6df-448cd23e97b8"
  ]
 },
 "nbformat": 4,
 "nbformat_minor": 5
}
